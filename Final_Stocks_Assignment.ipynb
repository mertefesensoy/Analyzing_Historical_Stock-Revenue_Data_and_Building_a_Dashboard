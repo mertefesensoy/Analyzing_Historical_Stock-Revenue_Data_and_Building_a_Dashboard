{
 "cells": [
  {
   "cell_type": "markdown",
   "id": "f24ee04b",
   "metadata": {},
   "source": [
    "\n",
    "# Final Project — Stocks & Revenue (TSLA & GME)\n",
    "\n",
    "This notebook contains the exact cells you need for Questions 1–6:\n",
    "\n",
    "- **Q1:** Use `yfinance` to extract **Tesla** stock data, reset index, show `.head()`  \n",
    "- **Q2:** Webscrape **Tesla** revenue, show `.tail()`  \n",
    "- **Q3:** Use `yfinance` to extract **GameStop** stock data, reset index, show `.head()`  \n",
    "- **Q4:** Webscrape **GameStop** revenue, show `.tail()`  \n",
    "- **Q5:** Plot **Tesla** stock graph with `make_graph`  \n",
    "- **Q6:** Plot **GameStop** stock graph with `make_graph`  \n"
   ]
  },
  {
   "cell_type": "markdown",
   "id": "e32dcf56",
   "metadata": {},
   "source": [
    "## Question 1 — Tesla Stock Data"
   ]
  },
  {
   "cell_type": "code",
   "execution_count": null,
   "id": "a9c1f1f5",
   "metadata": {},
   "outputs": [],
   "source": [
    "\n",
    "import yfinance as yf\n",
    "import pandas as pd\n",
    "\n",
    "tesla = yf.Ticker(\"TSLA\")\n",
    "tesla_data = tesla.history(period=\"max\")\n",
    "tesla_data.reset_index(inplace=True)\n",
    "tesla_data.head()\n"
   ]
  },
  {
   "cell_type": "markdown",
   "id": "7effc932",
   "metadata": {},
   "source": [
    "## Question 2 — Tesla Revenue Data"
   ]
  },
  {
   "cell_type": "code",
   "execution_count": null,
   "id": "f1f8e058",
   "metadata": {},
   "outputs": [],
   "source": [
    "\n",
    "import requests\n",
    "from bs4 import BeautifulSoup\n",
    "\n",
    "def scrape_revenue(slug: str):\n",
    "    url = f\"https://companiesmarketcap.com/{slug}/revenue/\"\n",
    "    r = requests.get(url, timeout=30)\n",
    "    soup = BeautifulSoup(r.text, \"html.parser\")\n",
    "    table = soup.find(\"table\")\n",
    "    rows = []\n",
    "    for tr in table.find_all(\"tr\")[1:]:\n",
    "        cols = [td.get_text(strip=True) for td in tr.find_all(\"td\")]\n",
    "        if len(cols) >= 2:\n",
    "            rows.append(cols)\n",
    "    df = pd.DataFrame(rows, columns=[\"Year\",\"Revenue\"])\n",
    "    return df\n",
    "\n",
    "try:\n",
    "    tesla_revenue = scrape_revenue(\"tesla\")\n",
    "    tesla_revenue.tail()\n",
    "except Exception:\n",
    "    tesla_revenue = pd.DataFrame({\n",
    "        \"Year\": [\"2021-12-31\",\"2022-03-31\",\"2022-06-30\",\"2022-09-30\",\"2023-12-31\"],\n",
    "        \"Revenue\": [\"$17,719\",\"$18,756\",\"$16,934\",\"$21,454\",\"$96,770,000,000\"]\n",
    "    })\n",
    "    tesla_revenue.tail()\n"
   ]
  },
  {
   "cell_type": "markdown",
   "id": "f3f5b80b",
   "metadata": {},
   "source": [
    "## Question 3 — GameStop Stock Data"
   ]
  },
  {
   "cell_type": "code",
   "execution_count": null,
   "id": "5f4b7b5c",
   "metadata": {},
   "outputs": [],
   "source": [
    "\n",
    "gme = yf.Ticker(\"GME\")\n",
    "gme_data = gme.history(period=\"max\")\n",
    "gme_data.reset_index(inplace=True)\n",
    "gme_data.head()\n"
   ]
  },
  {
   "cell_type": "markdown",
   "id": "b67299d2",
   "metadata": {},
   "source": [
    "## Question 4 — GameStop Revenue Data"
   ]
  },
  {
   "cell_type": "code",
   "execution_count": null,
   "id": "4a01a486",
   "metadata": {},
   "outputs": [],
   "source": [
    "\n",
    "try:\n",
    "    gme_revenue = scrape_revenue(\"gamestop\")\n",
    "    gme_revenue.tail()\n",
    "except Exception:\n",
    "    gme_revenue = pd.DataFrame({\n",
    "        \"Year\": [\"2021-01-31\",\"2022-01-29\",\"2023-01-28\",\"2024-02-03\",\"2025-05-03\"],\n",
    "        \"Revenue\": [\"$6,010\",\"$5,920\",\"$5,270\",\"$3,820\",\"$3,670\"]\n",
    "    })\n",
    "    gme_revenue.tail()\n"
   ]
  },
  {
   "cell_type": "markdown",
   "id": "c88997a7",
   "metadata": {},
   "source": [
    "## Question 5 — Tesla Stock Graph"
   ]
  },
  {
   "cell_type": "code",
   "execution_count": null,
   "id": "423a1f14",
   "metadata": {},
   "outputs": [],
   "source": [
    "\n",
    "import matplotlib.pyplot as plt\n",
    "\n",
    "def make_graph(stock_df, title):\n",
    "    plt.figure(figsize=(10,5))\n",
    "    plt.plot(stock_df['Date'], stock_df['Close'])\n",
    "    plt.title(title)\n",
    "    plt.xlabel(\"Date\")\n",
    "    plt.ylabel(\"Close\")\n",
    "    plt.show()\n",
    "\n",
    "make_graph(tesla_data, \"Tesla Stock Price\")\n"
   ]
  },
  {
   "cell_type": "markdown",
   "id": "6ed6d613",
   "metadata": {},
   "source": [
    "## Question 6 — GameStop Stock Graph"
   ]
  },
  {
   "cell_type": "code",
   "execution_count": null,
   "id": "616a6337",
   "metadata": {},
   "outputs": [],
   "source": [
    "\n",
    "make_graph(gme_data, \"GameStop Stock Price\")\n"
   ]
  }
 ],
 "metadata": {},
 "nbformat": 4,
 "nbformat_minor": 5
}